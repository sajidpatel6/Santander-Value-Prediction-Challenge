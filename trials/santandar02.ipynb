{
 "cells": [
  {
   "cell_type": "code",
   "execution_count": 1,
   "metadata": {},
   "outputs": [],
   "source": [
    "import pandas as pd\n",
    "from sklearn.preprocessing import MinMaxScaler"
   ]
  },
  {
   "cell_type": "code",
   "execution_count": 2,
   "metadata": {},
   "outputs": [],
   "source": [
    "# importing the dataset\n",
    "dataset = pd.read_csv(\"train.csv\")\n",
    "_datasetX = dataset.drop(['ID', 'target'], axis=1)\n",
    "_datasetY = dataset['target']\n",
    "#test_dataset =  pd.read_csv(\"test.csv\")\n",
    "\n"
   ]
  },
  {
   "cell_type": "code",
   "execution_count": 3,
   "metadata": {},
   "outputs": [],
   "source": [
    "scaler1 = MinMaxScaler(feature_range=(0, 1))\n",
    "datasetX = scaler1.fit_transform(_datasetX)\n",
    "\n",
    "_datasetY=_datasetY.values.reshape(-1, 1)\n",
    "scaler2 = MinMaxScaler(feature_range=(0, 1))\n",
    "datasetY = scaler2.fit_transform(_datasetY)\n"
   ]
  },
  {
   "cell_type": "code",
   "execution_count": 4,
   "metadata": {
    "scrolled": true
   },
   "outputs": [],
   "source": [
    "train_size = int(len(dataset) * 0.75)\n",
    "test_size = len(dataset) - train_size\n",
    "\n",
    "# train & test data\n",
    "trainX = datasetX[0:train_size]\n",
    "trainY = datasetY[0:train_size]\n",
    "#trainX.head()\n",
    "\n",
    "testX = datasetX[train_size:len(dataset)]\n",
    "testY = datasetY[train_size:len(dataset)]\n",
    "#testX.head()"
   ]
  },
  {
   "cell_type": "code",
   "execution_count": 7,
   "metadata": {
    "scrolled": true
   },
   "outputs": [
    {
     "name": "stderr",
     "output_type": "stream",
     "text": [
      "D:\\Users\\spatel\\AppData\\Local\\Continuum\\anaconda3\\lib\\site-packages\\sklearn\\utils\\validation.py:578: DataConversionWarning: A column-vector y was passed when a 1d array was expected. Please change the shape of y to (n_samples, ), for example using ravel().\n",
      "  y = column_or_1d(y, warn=True)\n",
      "Optimization Progress:   0%|                                                             | 0/150 [00:00<?, ?pipeline/s]"
     ]
    },
    {
     "name": "stdout",
     "output_type": "stream",
     "text": [
      "________________________________________________________________________________\n",
      "[Memory] Calling sklearn.pipeline._fit_transform_one...\n",
      "_fit_transform_one(StackingEstimator(estimator=RandomForestRegressor(bootstrap=False, criterion='mse', max_depth=None,\n",
      "           max_features=0.55, max_leaf_nodes=None,\n",
      "           min_impurity_decrease=0.0, min_impurity_split=None,\n",
      "           min_samples_leaf=6, min_samples_split=18,\n",
      "           min_weight_fraction_leaf=0.0, n_estimators=100, n_jobs=1,\n",
      "           oob_score=False, random_state=42, verbose=0, warm_start=False)), \n",
      "None, array([[0., ..., 0.],\n",
      "       ...,\n",
      "       [0., ..., 0.]]), array([0.1994  , ..., 0.006755]))\n"
     ]
    },
    {
     "name": "stderr",
     "output_type": "stream",
     "text": [
      "Optimization Progress:   3%|█▋                                                | 5/150 [08:29<4:56:29, 122.69s/pipeline]"
     ]
    },
    {
     "name": "stdout",
     "output_type": "stream",
     "text": [
      "________________________________________________________________________________\n",
      "[Memory] Calling sklearn.pipeline._fit_transform_one...\n",
      "_fit_transform_one(StandardScaler(copy=True, with_mean=True, with_std=True), None, array([[0., ..., 0.],\n",
      "       ...,\n",
      "       [0., ..., 0.]]), array([0.1994  , ..., 0.006755]))\n",
      "________________________________________________fit_transform_one - 0.8s, 0.0min\n",
      "________________________________________________________________________________\n",
      "[Memory] Calling sklearn.pipeline._fit_transform_one...\n",
      "_fit_transform_one(StandardScaler(copy=True, with_mean=True, with_std=True), None, array([[0., ..., 0.],\n",
      "       ...,\n",
      "       [0., ..., 0.]]), array([0.949962, ..., 0.006755]))\n",
      "________________________________________________fit_transform_one - 0.8s, 0.0min\n",
      "________________________________________________________________________________\n",
      "[Memory] Calling sklearn.pipeline._fit_transform_one...\n",
      "_fit_transform_one(StandardScaler(copy=True, with_mean=True, with_std=True), None, array([[0., ..., 0.],\n",
      "       ...,\n",
      "       [0., ..., 0.]]), array([0.949962, ..., 0.006755]))\n",
      "________________________________________________fit_transform_one - 0.8s, 0.0min\n",
      "________________________________________________________________________________\n",
      "[Memory] Calling sklearn.pipeline._fit_transform_one...\n",
      "_fit_transform_one(StandardScaler(copy=True, with_mean=True, with_std=True), None, array([[0., ..., 0.],\n",
      "       ...,\n",
      "       [0., ..., 0.]]), array([0.949962, ..., 0.006755]))\n",
      "________________________________________________fit_transform_one - 0.8s, 0.0min\n",
      "________________________________________________________________________________\n",
      "[Memory] Calling sklearn.pipeline._fit_transform_one...\n",
      "_fit_transform_one(StandardScaler(copy=True, with_mean=True, with_std=True), None, array([[0., ..., 0.],\n",
      "       ...,\n",
      "       [0., ..., 0.]]), array([0.949962, ..., 0.074306]))\n",
      "________________________________________________fit_transform_one - 0.9s, 0.0min\n"
     ]
    },
    {
     "name": "stderr",
     "output_type": "stream",
     "text": [
      "Optimization Progress:   5%|██▍                                                | 7/150 [09:11<2:50:41, 71.62s/pipeline]"
     ]
    },
    {
     "name": "stdout",
     "output_type": "stream",
     "text": [
      "________________________________________________________________________________\n",
      "[Memory] Calling sklearn.pipeline._fit_transform_one...\n",
      "_fit_transform_one(ZeroCount(), None, array([[0., ..., 0.],\n",
      "       ...,\n",
      "       [0., ..., 0.]]), array([0.1994  , ..., 0.006755]))\n",
      "________________________________________________fit_transform_one - 0.6s, 0.0min\n",
      "________________________________________________________________________________\n",
      "[Memory] Calling sklearn.pipeline._fit_transform_one...\n",
      "_fit_transform_one(ZeroCount(), None, array([[0., ..., 0.],\n",
      "       ...,\n",
      "       [0., ..., 0.]]), array([0.949962, ..., 0.006755]))\n",
      "________________________________________________fit_transform_one - 0.6s, 0.0min\n",
      "________________________________________________________________________________\n",
      "[Memory] Calling sklearn.pipeline._fit_transform_one...\n",
      "_fit_transform_one(ZeroCount(), None, array([[0., ..., 0.],\n",
      "       ...,\n",
      "       [0., ..., 0.]]), array([0.949962, ..., 0.006755]))\n",
      "________________________________________________fit_transform_one - 0.6s, 0.0min\n",
      "________________________________________________________________________________\n",
      "[Memory] Calling sklearn.pipeline._fit_transform_one...\n",
      "_fit_transform_one(ZeroCount(), None, array([[0., ..., 0.],\n",
      "       ...,\n",
      "       [0., ..., 0.]]), array([0.949962, ..., 0.006755]))\n",
      "________________________________________________fit_transform_one - 0.6s, 0.0min\n",
      "________________________________________________________________________________\n",
      "[Memory] Calling sklearn.pipeline._fit_transform_one...\n",
      "_fit_transform_one(ZeroCount(), None, array([[0., ..., 0.],\n",
      "       ...,\n",
      "       [0., ..., 0.]]), array([0.949962, ..., 0.074306]))\n",
      "________________________________________________fit_transform_one - 0.6s, 0.0min\n"
     ]
    },
    {
     "name": "stderr",
     "output_type": "stream",
     "text": [
      "\r",
      "Optimization Progress:   5%|██▋                                                | 8/150 [09:29<2:11:28, 55.56s/pipeline]"
     ]
    },
    {
     "name": "stdout",
     "output_type": "stream",
     "text": [
      "________________________________________________________________________________\n",
      "[Memory] Calling sklearn.pipeline._fit_transform_one...\n",
      "_fit_transform_one(StackingEstimator(estimator=RidgeCV(alphas=(0.1, 1.0, 10.0), cv=None, fit_intercept=True, gcv_mode=None,\n",
      "    normalize=False, scoring=None, store_cv_values=False)), \n",
      "None, array([[0., ..., 0.],\n",
      "       ...,\n",
      "       [0., ..., 0.]]), array([0.1994  , ..., 0.006755]))\n",
      "________________________________________________fit_transform_one - 5.2s, 0.1min\n",
      "________________________________________________________________________________\n",
      "[Memory] Calling sklearn.pipeline._fit_transform_one...\n",
      "_fit_transform_one(StackingEstimator(estimator=RidgeCV(alphas=(0.1, 1.0, 10.0), cv=None, fit_intercept=True, gcv_mode=None,\n",
      "    normalize=False, scoring=None, store_cv_values=False)), \n",
      "None, array([[0., ..., 0.],\n",
      "       ...,\n",
      "       [0., ..., 0.]]), array([0.949962, ..., 0.006755]))\n",
      "________________________________________________fit_transform_one - 5.4s, 0.1min\n",
      "________________________________________________________________________________\n",
      "[Memory] Calling sklearn.pipeline._fit_transform_one...\n",
      "_fit_transform_one(StackingEstimator(estimator=RidgeCV(alphas=(0.1, 1.0, 10.0), cv=None, fit_intercept=True, gcv_mode=None,\n",
      "    normalize=False, scoring=None, store_cv_values=False)), \n",
      "None, array([[0., ..., 0.],\n",
      "       ...,\n",
      "       [0., ..., 0.]]), array([0.949962, ..., 0.006755]))\n",
      "________________________________________________fit_transform_one - 5.1s, 0.1min\n",
      "________________________________________________________________________________\n",
      "[Memory] Calling sklearn.pipeline._fit_transform_one...\n",
      "_fit_transform_one(StackingEstimator(estimator=RidgeCV(alphas=(0.1, 1.0, 10.0), cv=None, fit_intercept=True, gcv_mode=None,\n",
      "    normalize=False, scoring=None, store_cv_values=False)), \n",
      "None, array([[0., ..., 0.],\n",
      "       ...,\n",
      "       [0., ..., 0.]]), array([0.949962, ..., 0.006755]))\n",
      "________________________________________________fit_transform_one - 5.0s, 0.1min\n"
     ]
    },
    {
     "name": "stderr",
     "output_type": "stream",
     "text": [
      "\r",
      "Optimization Progress:   6%|███                                               | 9/150 [14:30<5:03:06, 128.98s/pipeline]"
     ]
    },
    {
     "name": "stdout",
     "output_type": "stream",
     "text": [
      "________________________________________________________________________________\n",
      "[Memory] Calling sklearn.pipeline._fit_transform_one...\n",
      "_fit_transform_one(PolynomialFeatures(degree=2, include_bias=False, interaction_only=False), None, array([[0., ..., 0.],\n",
      "       ...,\n",
      "       [0., ..., 0.]]), array([0.1994  , ..., 0.006755]))\n"
     ]
    },
    {
     "name": "stderr",
     "output_type": "stream",
     "text": [
      "\r",
      "Optimization Progress:   7%|███▋                                              | 11/150 [14:32<3:29:55, 90.62s/pipeline]"
     ]
    },
    {
     "name": "stdout",
     "output_type": "stream",
     "text": [
      "________________________________________________________________________________\n",
      "[Memory] Calling sklearn.pipeline._fit_transform_one...\n",
      "_fit_transform_one(StackingEstimator(estimator=DecisionTreeRegressor(criterion='mse', max_depth=7, max_features=None,\n",
      "           max_leaf_nodes=None, min_impurity_decrease=0.0,\n",
      "           min_impurity_split=None, min_samples_leaf=6,\n",
      "           min_samples_split=12, min_weight_fraction_leaf=0.0,\n",
      "           presort=False, random_state=42, splitter='best')), \n",
      "None, array([[0., ..., 0.],\n",
      "       ...,\n",
      "       [0., ..., 0.]]), array([0.1994  , ..., 0.006755]))\n",
      "________________________________________________fit_transform_one - 2.3s, 0.0min\n",
      "________________________________________________________________________________\n",
      "[Memory] Calling sklearn.pipeline._fit_transform_one...\n",
      "_fit_transform_one(StackingEstimator(estimator=DecisionTreeRegressor(criterion='mse', max_depth=7, max_features=None,\n",
      "           max_leaf_nodes=None, min_impurity_decrease=0.0,\n",
      "           min_impurity_split=None, min_samples_leaf=6,\n",
      "           min_samples_split=12, min_weight_fraction_leaf=0.0,\n",
      "           presort=False, random_state=42, splitter='best')), \n",
      "None, array([[0., ..., 0.],\n",
      "       ...,\n",
      "       [0., ..., 0.]]), array([0.949962, ..., 0.006755]))\n",
      "________________________________________________fit_transform_one - 2.2s, 0.0min\n"
     ]
    },
    {
     "name": "stderr",
     "output_type": "stream",
     "text": [
      "\r",
      "Optimization Progress:   8%|███▉                                             | 12/150 [19:32<5:53:00, 153.48s/pipeline]"
     ]
    },
    {
     "name": "stdout",
     "output_type": "stream",
     "text": [
      "________________________________________________________________________________\n",
      "[Memory] Calling sklearn.pipeline._fit_transform_one...\n",
      "_fit_transform_one(Nystroem(coef0=None, degree=None, gamma=0.35000000000000003, kernel='linear',\n",
      "     kernel_params=None, n_components=9, random_state=42), \n",
      "None, array([[0., ..., 0.],\n",
      "       ...,\n",
      "       [0., ..., 0.]]), array([0.1994  , ..., 0.006755]))\n",
      "________________________________________________fit_transform_one - 0.1s, 0.0min\n",
      "________________________________________________________________________________\n",
      "[Memory] Calling sklearn.pipeline._fit_transform_one...\n",
      "_fit_transform_one(Nystroem(coef0=None, degree=None, gamma=0.35000000000000003, kernel='linear',\n",
      "     kernel_params=None, n_components=9, random_state=42), \n",
      "None, array([[0., ..., 0.],\n",
      "       ...,\n",
      "       [0., ..., 0.]]), array([0.949962, ..., 0.006755]))\n",
      "________________________________________________fit_transform_one - 0.1s, 0.0min\n",
      "________________________________________________________________________________\n",
      "[Memory] Calling sklearn.pipeline._fit_transform_one...\n",
      "_fit_transform_one(Nystroem(coef0=None, degree=None, gamma=0.35000000000000003, kernel='linear',\n",
      "     kernel_params=None, n_components=9, random_state=42), \n",
      "None, array([[0., ..., 0.],\n",
      "       ...,\n",
      "       [0., ..., 0.]]), array([0.949962, ..., 0.006755]))\n",
      "________________________________________________fit_transform_one - 0.1s, 0.0min\n",
      "________________________________________________________________________________\n",
      "[Memory] Calling sklearn.pipeline._fit_transform_one...\n",
      "_fit_transform_one(Nystroem(coef0=None, degree=None, gamma=0.35000000000000003, kernel='linear',\n",
      "     kernel_params=None, n_components=9, random_state=42), \n",
      "None, array([[0., ..., 0.],\n",
      "       ...,\n",
      "       [0., ..., 0.]]), array([0.949962, ..., 0.006755]))\n",
      "________________________________________________fit_transform_one - 0.2s, 0.0min\n",
      "________________________________________________________________________________\n",
      "[Memory] Calling sklearn.pipeline._fit_transform_one...\n",
      "_fit_transform_one(Nystroem(coef0=None, degree=None, gamma=0.35000000000000003, kernel='linear',\n",
      "     kernel_params=None, n_components=9, random_state=42), \n",
      "None, array([[0., ..., 0.],\n",
      "       ...,\n",
      "       [0., ..., 0.]]), array([0.949962, ..., 0.074306]))\n",
      "________________________________________________fit_transform_one - 0.1s, 0.0min\n"
     ]
    },
    {
     "name": "stderr",
     "output_type": "stream",
     "text": [
      "                                                                                                                       \r"
     ]
    },
    {
     "name": "stdout",
     "output_type": "stream",
     "text": [
      "\n"
     ]
    },
    {
     "name": "stderr",
     "output_type": "stream",
     "text": [
      "                                                                                                                       \r"
     ]
    },
    {
     "name": "stdout",
     "output_type": "stream",
     "text": [
      "\n",
      "TPOT closed prematurely. Will use the current best pipeline.\n"
     ]
    },
    {
     "name": "stderr",
     "output_type": "stream",
     "text": [
      "                                                                                                                       \r"
     ]
    },
    {
     "ename": "RuntimeError",
     "evalue": "A pipeline has not yet been optimized. Please call fit() first.",
     "output_type": "error",
     "traceback": [
      "\u001b[1;31m---------------------------------------------------------------------------\u001b[0m",
      "\u001b[1;31mRuntimeError\u001b[0m                              Traceback (most recent call last)",
      "\u001b[1;32m<ipython-input-7-6e30186b3483>\u001b[0m in \u001b[0;36m<module>\u001b[1;34m()\u001b[0m\n\u001b[0;32m     18\u001b[0m \u001b[0mtpot\u001b[0m \u001b[1;33m=\u001b[0m \u001b[0mTPOTRegressor\u001b[0m\u001b[1;33m(\u001b[0m\u001b[0mgenerations\u001b[0m\u001b[1;33m=\u001b[0m\u001b[1;36m5\u001b[0m\u001b[1;33m,\u001b[0m \u001b[0mpopulation_size\u001b[0m\u001b[1;33m=\u001b[0m\u001b[1;36m25\u001b[0m\u001b[1;33m,\u001b[0m \u001b[0mwarm_start\u001b[0m\u001b[1;33m=\u001b[0m\u001b[1;32mTrue\u001b[0m\u001b[1;33m,\u001b[0m \u001b[0mmemory\u001b[0m\u001b[1;33m=\u001b[0m\u001b[0mmemory2\u001b[0m\u001b[1;33m,\u001b[0m \u001b[0mperiodic_checkpoint_folder\u001b[0m\u001b[1;33m=\u001b[0m\u001b[1;34m'regressor'\u001b[0m\u001b[1;33m,\u001b[0m \u001b[0mverbosity\u001b[0m\u001b[1;33m=\u001b[0m\u001b[1;36m2\u001b[0m\u001b[1;33m)\u001b[0m\u001b[1;33m\u001b[0m\u001b[0m\n\u001b[0;32m     19\u001b[0m \u001b[1;31m# fit instance\u001b[0m\u001b[1;33m\u001b[0m\u001b[1;33m\u001b[0m\u001b[0m\n\u001b[1;32m---> 20\u001b[1;33m \u001b[0mtpot\u001b[0m\u001b[1;33m.\u001b[0m\u001b[0mfit\u001b[0m\u001b[1;33m(\u001b[0m\u001b[0mtrainX\u001b[0m\u001b[1;33m,\u001b[0m \u001b[0mtrainY\u001b[0m\u001b[1;33m)\u001b[0m\u001b[1;33m\u001b[0m\u001b[0m\n\u001b[0m\u001b[0;32m     21\u001b[0m \u001b[1;33m\u001b[0m\u001b[0m\n\u001b[0;32m     22\u001b[0m \u001b[1;31m# evaluate performance on test data\u001b[0m\u001b[1;33m\u001b[0m\u001b[1;33m\u001b[0m\u001b[0m\n",
      "\u001b[1;32m~\\AppData\\Local\\Continuum\\anaconda3\\lib\\site-packages\\tpot\\base.py\u001b[0m in \u001b[0;36mfit\u001b[1;34m(self, features, target, sample_weight, groups)\u001b[0m\n\u001b[0;32m    648\u001b[0m                     \u001b[1;31m# raise the exception if it's our last attempt\u001b[0m\u001b[1;33m\u001b[0m\u001b[1;33m\u001b[0m\u001b[0m\n\u001b[0;32m    649\u001b[0m                     \u001b[1;32mif\u001b[0m \u001b[0mattempt\u001b[0m \u001b[1;33m==\u001b[0m \u001b[1;33m(\u001b[0m\u001b[0mattempts\u001b[0m \u001b[1;33m-\u001b[0m \u001b[1;36m1\u001b[0m\u001b[1;33m)\u001b[0m\u001b[1;33m:\u001b[0m\u001b[1;33m\u001b[0m\u001b[0m\n\u001b[1;32m--> 650\u001b[1;33m                         \u001b[1;32mraise\u001b[0m \u001b[0me\u001b[0m\u001b[1;33m\u001b[0m\u001b[0m\n\u001b[0m\u001b[0;32m    651\u001b[0m             \u001b[1;32mreturn\u001b[0m \u001b[0mself\u001b[0m\u001b[1;33m\u001b[0m\u001b[0m\n\u001b[0;32m    652\u001b[0m \u001b[1;33m\u001b[0m\u001b[0m\n",
      "\u001b[1;32m~\\AppData\\Local\\Continuum\\anaconda3\\lib\\site-packages\\tpot\\base.py\u001b[0m in \u001b[0;36mfit\u001b[1;34m(self, features, target, sample_weight, groups)\u001b[0m\n\u001b[0;32m    639\u001b[0m                         \u001b[0mself\u001b[0m\u001b[1;33m.\u001b[0m\u001b[0m_pbar\u001b[0m\u001b[1;33m.\u001b[0m\u001b[0mclose\u001b[0m\u001b[1;33m(\u001b[0m\u001b[1;33m)\u001b[0m\u001b[1;33m\u001b[0m\u001b[0m\n\u001b[0;32m    640\u001b[0m \u001b[1;33m\u001b[0m\u001b[0m\n\u001b[1;32m--> 641\u001b[1;33m                     \u001b[0mself\u001b[0m\u001b[1;33m.\u001b[0m\u001b[0m_update_top_pipeline\u001b[0m\u001b[1;33m(\u001b[0m\u001b[1;33m)\u001b[0m\u001b[1;33m\u001b[0m\u001b[0m\n\u001b[0m\u001b[0;32m    642\u001b[0m                     \u001b[0mself\u001b[0m\u001b[1;33m.\u001b[0m\u001b[0m_summary_of_best_pipeline\u001b[0m\u001b[1;33m(\u001b[0m\u001b[0mfeatures\u001b[0m\u001b[1;33m,\u001b[0m \u001b[0mtarget\u001b[0m\u001b[1;33m)\u001b[0m\u001b[1;33m\u001b[0m\u001b[0m\n\u001b[0;32m    643\u001b[0m                     \u001b[1;31m# Delete the temporary cache before exiting\u001b[0m\u001b[1;33m\u001b[0m\u001b[1;33m\u001b[0m\u001b[0m\n",
      "\u001b[1;32m~\\AppData\\Local\\Continuum\\anaconda3\\lib\\site-packages\\tpot\\base.py\u001b[0m in \u001b[0;36m_update_top_pipeline\u001b[1;34m(self)\u001b[0m\n\u001b[0;32m    713\u001b[0m             \u001b[1;31m# If user passes CTRL+C in initial generation, self._pareto_front (halloffame) shoule be not updated yet.\u001b[0m\u001b[1;33m\u001b[0m\u001b[1;33m\u001b[0m\u001b[0m\n\u001b[0;32m    714\u001b[0m             \u001b[1;31m# need raise RuntimeError because no pipeline has been optimized\u001b[0m\u001b[1;33m\u001b[0m\u001b[1;33m\u001b[0m\u001b[0m\n\u001b[1;32m--> 715\u001b[1;33m             \u001b[1;32mraise\u001b[0m \u001b[0mRuntimeError\u001b[0m\u001b[1;33m(\u001b[0m\u001b[1;34m'A pipeline has not yet been optimized. Please call fit() first.'\u001b[0m\u001b[1;33m)\u001b[0m\u001b[1;33m\u001b[0m\u001b[0m\n\u001b[0m\u001b[0;32m    716\u001b[0m \u001b[1;33m\u001b[0m\u001b[0m\n\u001b[0;32m    717\u001b[0m     \u001b[1;32mdef\u001b[0m \u001b[0m_summary_of_best_pipeline\u001b[0m\u001b[1;33m(\u001b[0m\u001b[0mself\u001b[0m\u001b[1;33m,\u001b[0m \u001b[0mfeatures\u001b[0m\u001b[1;33m,\u001b[0m \u001b[0mtarget\u001b[0m\u001b[1;33m)\u001b[0m\u001b[1;33m:\u001b[0m\u001b[1;33m\u001b[0m\u001b[0m\n",
      "\u001b[1;31mRuntimeError\u001b[0m: A pipeline has not yet been optimized. Please call fit() first."
     ]
    }
   ],
   "source": [
    "from tpot import TPOTClassifier, TPOTRegressor\n",
    "from tempfile import mkdtemp\n",
    "from sklearn.externals.joblib import Memory\n",
    "\n",
    "#cachedir1 = mkdtemp() # Create a temporary folder\n",
    "#memory1 = Memory(cachedir=cachedir1, verbose=0)\n",
    "memory1 = Memory(cachedir='tmp_classifier', verbose=1)\n",
    "# create instance \n",
    "tpot = TPOTClassifier(generations=5, population_size=25, warm_start=True, memory=memory1, periodic_checkpoint_folder='classifier', verbosity=2, config_dict='TPOT MDR')\n",
    "#tpot = TPOTClassifier(warm_start=True, memory=memory1, periodic_checkpoint_folder='classifier', verbosity=2, config_dict='TPOT MDR')\n",
    "# fit instance\n",
    "#tpot.fit(trainX, trainY)\n",
    "\n",
    "#cachedir2 = mkdtemp() # Create a temporary folder\n",
    "#memory2 = Memory(cachedir=cachedir2, verbose=0)\n",
    "memory2 = Memory(cachedir='tmp_regressor', verbose=1)\n",
    "# create instance\n",
    "tpot = TPOTRegressor(generations=5, population_size=25, warm_start=True, memory=memory2, periodic_checkpoint_folder='regressor', verbosity=2, config_dict='TPOT MDR')\n",
    "# fit instance\n",
    "tpot.fit(trainX, trainY)\n",
    " \n",
    "# evaluate performance on test data\n",
    "print(tpot.score(testX, testY))\n",
    " \n",
    "# export the script used to create the best model\n",
    "tpot.export('tpot_exported_pipeline.py')"
   ]
  },
  {
   "cell_type": "code",
   "execution_count": null,
   "metadata": {},
   "outputs": [],
   "source": []
  }
 ],
 "metadata": {
  "kernelspec": {
   "display_name": "Python 3",
   "language": "python",
   "name": "python3"
  },
  "language_info": {
   "codemirror_mode": {
    "name": "ipython",
    "version": 3
   },
   "file_extension": ".py",
   "mimetype": "text/x-python",
   "name": "python",
   "nbconvert_exporter": "python",
   "pygments_lexer": "ipython3",
   "version": "3.6.5"
  }
 },
 "nbformat": 4,
 "nbformat_minor": 2
}
