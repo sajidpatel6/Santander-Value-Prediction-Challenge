{
 "cells": [
  {
   "cell_type": "code",
   "execution_count": null,
   "metadata": {},
   "outputs": [],
   "source": [
    "import pandas as pd\n",
    "from sklearn.preprocessing import MinMaxScaler"
   ]
  },
  {
   "cell_type": "code",
   "execution_count": null,
   "metadata": {},
   "outputs": [],
   "source": [
    "# importing the dataset\n",
    "dataset = pd.read_csv(\"train.csv\")\n",
    "_datasetX = dataset.drop(['ID', 'target'], axis=1)\n",
    "_datasetY = dataset['target']\n",
    "#test_dataset =  pd.read_csv(\"test.csv\")\n",
    "\n"
   ]
  },
  {
   "cell_type": "code",
   "execution_count": null,
   "metadata": {},
   "outputs": [],
   "source": [
    "scaler1 = MinMaxScaler(feature_range=(0, 1))\n",
    "datasetX = scaler1.fit_transform(_datasetX)\n",
    "\n",
    "_datasetY=_datasetY.values.reshape(-1, 1)\n",
    "scaler2 = MinMaxScaler(feature_range=(0, 1))\n",
    "datasetY = scaler2.fit_transform(_datasetY)\n"
   ]
  },
  {
   "cell_type": "code",
   "execution_count": null,
   "metadata": {
    "scrolled": true
   },
   "outputs": [],
   "source": [
    "train_size = int(len(dataset) * 0.75)\n",
    "test_size = len(dataset) - train_size\n",
    "\n",
    "# train & test data\n",
    "trainX = datasetX[0:train_size]\n",
    "trainY = datasetY[0:train_size]\n",
    "#trainX.head()\n",
    "\n",
    "testX = datasetX[train_size:len(dataset)]\n",
    "testY = datasetY[train_size:len(dataset)]\n",
    "#testX.head()"
   ]
  },
  {
   "cell_type": "code",
   "execution_count": null,
   "metadata": {
    "scrolled": true
   },
   "outputs": [],
   "source": [
    "from tpot import TPOTClassifier\n",
    "from tempfile import mkdtemp\n",
    "from sklearn.externals.joblib import Memory\n",
    "\n",
    "#cachedir1 = mkdtemp() # Create a temporary folder\n",
    "#memory1 = Memory(cachedir=cachedir1, verbose=0)\n",
    "memory1 = Memory(cachedir='tmp_classifier', verbose=1)\n",
    "# create instance \n",
    "tpot = TPOTClassifier(generations=5, population_size=50, warm_start=True, memory=memory1, \n",
    "                      periodic_checkpoint_folder='classifier', verbosity=2, config_dict='TPOT MDR')\n",
    "# fit instance\n",
    "tpot.fit(trainX, trainY)\n",
    " \n",
    "# evaluate performance on test data\n",
    "print(tpot.score(testX, testY))\n",
    " \n",
    "# export the script used to create the best model\n",
    "tpot.export('tpot_classifier_pipeline.py')"
   ]
  },
  {
   "cell_type": "code",
   "execution_count": null,
   "metadata": {},
   "outputs": [],
   "source": [
    "from tpot import TPOTRegressor\n",
    "from tempfile import mkdtemp\n",
    "from sklearn.externals.joblib import Memory\n",
    "\n",
    "#cachedir2 = mkdtemp() # Create a temporary folder\n",
    "#memory2 = Memory(cachedir=cachedir2, verbose=0)\n",
    "memory2 = Memory(cachedir='tmp_regressor', verbose=1)\n",
    "# create instance\n",
    "tpot = TPOTRegressor(generations=5, population_size=25, warm_start=True, memory=memory2, \n",
    "                     periodic_checkpoint_folder='regressor', verbosity=2, config_dict='TPOT MDR')\n",
    "# fit instance\n",
    "tpot.fit(trainX, trainY)\n",
    " \n",
    "# evaluate performance on test data\n",
    "print(tpot.score(testX, testY))\n",
    " \n",
    "# export the script used to create the best model\n",
    "tpot.export('tpot_regressor_pipeline.py')"
   ]
  }
 ],
 "metadata": {
  "kernelspec": {
   "display_name": "Python 3",
   "language": "python",
   "name": "python3"
  },
  "language_info": {
   "codemirror_mode": {
    "name": "ipython",
    "version": 3
   },
   "file_extension": ".py",
   "mimetype": "text/x-python",
   "name": "python",
   "nbconvert_exporter": "python",
   "pygments_lexer": "ipython3",
   "version": "3.6.5"
  }
 },
 "nbformat": 4,
 "nbformat_minor": 2
}
